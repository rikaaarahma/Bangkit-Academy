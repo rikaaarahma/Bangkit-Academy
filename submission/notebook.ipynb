{
  "cells": [
    {
      "cell_type": "markdown",
      "metadata": {
        "id": "H9wADwK78DCz"
      },
      "source": [
        "# Proyek Analisis Data: E-Commerce Public Dataset\n",
        "- **Nama:** Rika Rahma\n",
        "- **Email:** rikaarahmaa26@gmail.com\n",
        "- **ID Dicoding:** rikarahmaa26"
      ]
    },
    {
      "cell_type": "markdown",
      "metadata": {
        "id": "eE0raob58DC0"
      },
      "source": [
        "## Menentukan Pertanyaan Bisnis"
      ]
    },
    {
      "cell_type": "markdown",
      "metadata": {
        "id": "GmQeQ5YF8DC0"
      },
      "source": [
        "- Questions 1 : What is the trend of monthly orders in the dataset? How does it change over time?\n",
        "\n",
        "- Questions 2 : What are the most frequently used payment methods? How significant is the distribution of each?"
      ]
    },
    {
      "cell_type": "markdown",
      "metadata": {
        "id": "H-z4QGlO8DC1"
      },
      "source": [
        "## Import Semua Packages/Library yang Digunakan"
      ]
    },
    {
      "cell_type": "markdown",
      "source": [
        "Dalam bagian ini, kita akan mengimpor semua pustaka yang diperlukan untuk analisis data, termasuk pandas untuk manipulasi data, matplotlib dan seaborn untuk visualisasi, geopandas dan folium untuk analisis geospasial, serta modul datetime untuk pengolahan tanggal."
      ],
      "metadata": {
        "id": "E0-QWApksB41"
      }
    },
    {
      "cell_type": "code",
      "execution_count": 1,
      "metadata": {
        "id": "FVYwaObI8DC1"
      },
      "outputs": [],
      "source": [
        "import pandas as pd\n",
        "import matplotlib.pyplot as plt\n",
        "import seaborn as sns\n",
        "import geopandas as gpd\n",
        "import folium\n",
        "from google.colab import drive\n",
        "from datetime import datetime"
      ]
    },
    {
      "cell_type": "markdown",
      "metadata": {
        "id": "h_Sh51Xy8DC1"
      },
      "source": [
        "## Data Wrangling"
      ]
    },
    {
      "cell_type": "markdown",
      "metadata": {
        "id": "sXU2GBYu8DC1"
      },
      "source": [
        "### Gathering Data"
      ]
    },
    {
      "cell_type": "markdown",
      "source": [
        "Dalam langkah ini, akan memuat dataset yang diperlukan dari Google Drive untuk analisis. Kita akan memeriksa file CSV untuk memastikan bahwa semua data tersedia untuk analisis selanjutnya."
      ],
      "metadata": {
        "id": "wpEpjhKJtBJP"
      }
    },
    {
      "cell_type": "code",
      "execution_count": 3,
      "metadata": {
        "id": "zjCBk1BI8DC1",
        "colab": {
          "base_uri": "https://localhost:8080/",
          "height": 243
        },
        "outputId": "9b6152b6-9c73-4a58-ca53-ee19d71e0dcd"
      },
      "outputs": [
        {
          "output_type": "stream",
          "name": "stdout",
          "text": [
            "Drive already mounted at /content/gdrive; to attempt to forcibly remount, call drive.mount(\"/content/gdrive\", force_remount=True).\n"
          ]
        },
        {
          "output_type": "execute_result",
          "data": {
            "text/plain": [
              "                           order_id                       customer_id  \\\n",
              "0  e481f51cbdc54678b7cc49136f2d6af7  9ef432eb6251297304e76186b10a928d   \n",
              "1  53cdb2fc8bc7dce0b6741e2150273451  b0830fb4747a6c6d20dea0b8c802d7ef   \n",
              "2  47770eb9100c2d0c44946d9cf07ec65d  41ce2a54c0b03bf3443c3d931a367089   \n",
              "3  949d5b44dbf5de918fe9c16f97b45f8a  f88197465ea7920adcdbec7375364d82   \n",
              "4  ad21c59c0840e6cb83a9ceb5573f8159  8ab97904e6daea8866dbdbc4fb7aad2c   \n",
              "\n",
              "  order_status order_purchase_timestamp    order_approved_at  \\\n",
              "0    delivered      2017-10-02 10:56:33  2017-10-02 11:07:15   \n",
              "1    delivered      2018-07-24 20:41:37  2018-07-26 03:24:27   \n",
              "2    delivered      2018-08-08 08:38:49  2018-08-08 08:55:23   \n",
              "3    delivered      2017-11-18 19:28:06  2017-11-18 19:45:59   \n",
              "4    delivered      2018-02-13 21:18:39  2018-02-13 22:20:29   \n",
              "\n",
              "  order_delivered_carrier_date order_delivered_customer_date  \\\n",
              "0          2017-10-04 19:55:00           2017-10-10 21:25:13   \n",
              "1          2018-07-26 14:31:00           2018-08-07 15:27:45   \n",
              "2          2018-08-08 13:50:00           2018-08-17 18:06:29   \n",
              "3          2017-11-22 13:39:59           2017-12-02 00:28:42   \n",
              "4          2018-02-14 19:46:34           2018-02-16 18:17:02   \n",
              "\n",
              "  order_estimated_delivery_date  \n",
              "0           2017-10-18 00:00:00  \n",
              "1           2018-08-13 00:00:00  \n",
              "2           2018-09-04 00:00:00  \n",
              "3           2017-12-15 00:00:00  \n",
              "4           2018-02-26 00:00:00  "
            ],
            "text/html": [
              "\n",
              "  <div id=\"df-65dc4962-7fbd-408d-b143-fd64d5723c49\" class=\"colab-df-container\">\n",
              "    <div>\n",
              "<style scoped>\n",
              "    .dataframe tbody tr th:only-of-type {\n",
              "        vertical-align: middle;\n",
              "    }\n",
              "\n",
              "    .dataframe tbody tr th {\n",
              "        vertical-align: top;\n",
              "    }\n",
              "\n",
              "    .dataframe thead th {\n",
              "        text-align: right;\n",
              "    }\n",
              "</style>\n",
              "<table border=\"1\" class=\"dataframe\">\n",
              "  <thead>\n",
              "    <tr style=\"text-align: right;\">\n",
              "      <th></th>\n",
              "      <th>order_id</th>\n",
              "      <th>customer_id</th>\n",
              "      <th>order_status</th>\n",
              "      <th>order_purchase_timestamp</th>\n",
              "      <th>order_approved_at</th>\n",
              "      <th>order_delivered_carrier_date</th>\n",
              "      <th>order_delivered_customer_date</th>\n",
              "      <th>order_estimated_delivery_date</th>\n",
              "    </tr>\n",
              "  </thead>\n",
              "  <tbody>\n",
              "    <tr>\n",
              "      <th>0</th>\n",
              "      <td>e481f51cbdc54678b7cc49136f2d6af7</td>\n",
              "      <td>9ef432eb6251297304e76186b10a928d</td>\n",
              "      <td>delivered</td>\n",
              "      <td>2017-10-02 10:56:33</td>\n",
              "      <td>2017-10-02 11:07:15</td>\n",
              "      <td>2017-10-04 19:55:00</td>\n",
              "      <td>2017-10-10 21:25:13</td>\n",
              "      <td>2017-10-18 00:00:00</td>\n",
              "    </tr>\n",
              "    <tr>\n",
              "      <th>1</th>\n",
              "      <td>53cdb2fc8bc7dce0b6741e2150273451</td>\n",
              "      <td>b0830fb4747a6c6d20dea0b8c802d7ef</td>\n",
              "      <td>delivered</td>\n",
              "      <td>2018-07-24 20:41:37</td>\n",
              "      <td>2018-07-26 03:24:27</td>\n",
              "      <td>2018-07-26 14:31:00</td>\n",
              "      <td>2018-08-07 15:27:45</td>\n",
              "      <td>2018-08-13 00:00:00</td>\n",
              "    </tr>\n",
              "    <tr>\n",
              "      <th>2</th>\n",
              "      <td>47770eb9100c2d0c44946d9cf07ec65d</td>\n",
              "      <td>41ce2a54c0b03bf3443c3d931a367089</td>\n",
              "      <td>delivered</td>\n",
              "      <td>2018-08-08 08:38:49</td>\n",
              "      <td>2018-08-08 08:55:23</td>\n",
              "      <td>2018-08-08 13:50:00</td>\n",
              "      <td>2018-08-17 18:06:29</td>\n",
              "      <td>2018-09-04 00:00:00</td>\n",
              "    </tr>\n",
              "    <tr>\n",
              "      <th>3</th>\n",
              "      <td>949d5b44dbf5de918fe9c16f97b45f8a</td>\n",
              "      <td>f88197465ea7920adcdbec7375364d82</td>\n",
              "      <td>delivered</td>\n",
              "      <td>2017-11-18 19:28:06</td>\n",
              "      <td>2017-11-18 19:45:59</td>\n",
              "      <td>2017-11-22 13:39:59</td>\n",
              "      <td>2017-12-02 00:28:42</td>\n",
              "      <td>2017-12-15 00:00:00</td>\n",
              "    </tr>\n",
              "    <tr>\n",
              "      <th>4</th>\n",
              "      <td>ad21c59c0840e6cb83a9ceb5573f8159</td>\n",
              "      <td>8ab97904e6daea8866dbdbc4fb7aad2c</td>\n",
              "      <td>delivered</td>\n",
              "      <td>2018-02-13 21:18:39</td>\n",
              "      <td>2018-02-13 22:20:29</td>\n",
              "      <td>2018-02-14 19:46:34</td>\n",
              "      <td>2018-02-16 18:17:02</td>\n",
              "      <td>2018-02-26 00:00:00</td>\n",
              "    </tr>\n",
              "  </tbody>\n",
              "</table>\n",
              "</div>\n",
              "    <div class=\"colab-df-buttons\">\n",
              "\n",
              "  <div class=\"colab-df-container\">\n",
              "    <button class=\"colab-df-convert\" onclick=\"convertToInteractive('df-65dc4962-7fbd-408d-b143-fd64d5723c49')\"\n",
              "            title=\"Convert this dataframe to an interactive table.\"\n",
              "            style=\"display:none;\">\n",
              "\n",
              "  <svg xmlns=\"http://www.w3.org/2000/svg\" height=\"24px\" viewBox=\"0 -960 960 960\">\n",
              "    <path d=\"M120-120v-720h720v720H120Zm60-500h600v-160H180v160Zm220 220h160v-160H400v160Zm0 220h160v-160H400v160ZM180-400h160v-160H180v160Zm440 0h160v-160H620v160ZM180-180h160v-160H180v160Zm440 0h160v-160H620v160Z\"/>\n",
              "  </svg>\n",
              "    </button>\n",
              "\n",
              "  <style>\n",
              "    .colab-df-container {\n",
              "      display:flex;\n",
              "      gap: 12px;\n",
              "    }\n",
              "\n",
              "    .colab-df-convert {\n",
              "      background-color: #E8F0FE;\n",
              "      border: none;\n",
              "      border-radius: 50%;\n",
              "      cursor: pointer;\n",
              "      display: none;\n",
              "      fill: #1967D2;\n",
              "      height: 32px;\n",
              "      padding: 0 0 0 0;\n",
              "      width: 32px;\n",
              "    }\n",
              "\n",
              "    .colab-df-convert:hover {\n",
              "      background-color: #E2EBFA;\n",
              "      box-shadow: 0px 1px 2px rgba(60, 64, 67, 0.3), 0px 1px 3px 1px rgba(60, 64, 67, 0.15);\n",
              "      fill: #174EA6;\n",
              "    }\n",
              "\n",
              "    .colab-df-buttons div {\n",
              "      margin-bottom: 4px;\n",
              "    }\n",
              "\n",
              "    [theme=dark] .colab-df-convert {\n",
              "      background-color: #3B4455;\n",
              "      fill: #D2E3FC;\n",
              "    }\n",
              "\n",
              "    [theme=dark] .colab-df-convert:hover {\n",
              "      background-color: #434B5C;\n",
              "      box-shadow: 0px 1px 3px 1px rgba(0, 0, 0, 0.15);\n",
              "      filter: drop-shadow(0px 1px 2px rgba(0, 0, 0, 0.3));\n",
              "      fill: #FFFFFF;\n",
              "    }\n",
              "  </style>\n",
              "\n",
              "    <script>\n",
              "      const buttonEl =\n",
              "        document.querySelector('#df-65dc4962-7fbd-408d-b143-fd64d5723c49 button.colab-df-convert');\n",
              "      buttonEl.style.display =\n",
              "        google.colab.kernel.accessAllowed ? 'block' : 'none';\n",
              "\n",
              "      async function convertToInteractive(key) {\n",
              "        const element = document.querySelector('#df-65dc4962-7fbd-408d-b143-fd64d5723c49');\n",
              "        const dataTable =\n",
              "          await google.colab.kernel.invokeFunction('convertToInteractive',\n",
              "                                                    [key], {});\n",
              "        if (!dataTable) return;\n",
              "\n",
              "        const docLinkHtml = 'Like what you see? Visit the ' +\n",
              "          '<a target=\"_blank\" href=https://colab.research.google.com/notebooks/data_table.ipynb>data table notebook</a>'\n",
              "          + ' to learn more about interactive tables.';\n",
              "        element.innerHTML = '';\n",
              "        dataTable['output_type'] = 'display_data';\n",
              "        await google.colab.output.renderOutput(dataTable, element);\n",
              "        const docLink = document.createElement('div');\n",
              "        docLink.innerHTML = docLinkHtml;\n",
              "        element.appendChild(docLink);\n",
              "      }\n",
              "    </script>\n",
              "  </div>\n",
              "\n",
              "\n",
              "<div id=\"df-2c7ad067-8504-404e-8249-73e26693acc9\">\n",
              "  <button class=\"colab-df-quickchart\" onclick=\"quickchart('df-2c7ad067-8504-404e-8249-73e26693acc9')\"\n",
              "            title=\"Suggest charts\"\n",
              "            style=\"display:none;\">\n",
              "\n",
              "<svg xmlns=\"http://www.w3.org/2000/svg\" height=\"24px\"viewBox=\"0 0 24 24\"\n",
              "     width=\"24px\">\n",
              "    <g>\n",
              "        <path d=\"M19 3H5c-1.1 0-2 .9-2 2v14c0 1.1.9 2 2 2h14c1.1 0 2-.9 2-2V5c0-1.1-.9-2-2-2zM9 17H7v-7h2v7zm4 0h-2V7h2v10zm4 0h-2v-4h2v4z\"/>\n",
              "    </g>\n",
              "</svg>\n",
              "  </button>\n",
              "\n",
              "<style>\n",
              "  .colab-df-quickchart {\n",
              "      --bg-color: #E8F0FE;\n",
              "      --fill-color: #1967D2;\n",
              "      --hover-bg-color: #E2EBFA;\n",
              "      --hover-fill-color: #174EA6;\n",
              "      --disabled-fill-color: #AAA;\n",
              "      --disabled-bg-color: #DDD;\n",
              "  }\n",
              "\n",
              "  [theme=dark] .colab-df-quickchart {\n",
              "      --bg-color: #3B4455;\n",
              "      --fill-color: #D2E3FC;\n",
              "      --hover-bg-color: #434B5C;\n",
              "      --hover-fill-color: #FFFFFF;\n",
              "      --disabled-bg-color: #3B4455;\n",
              "      --disabled-fill-color: #666;\n",
              "  }\n",
              "\n",
              "  .colab-df-quickchart {\n",
              "    background-color: var(--bg-color);\n",
              "    border: none;\n",
              "    border-radius: 50%;\n",
              "    cursor: pointer;\n",
              "    display: none;\n",
              "    fill: var(--fill-color);\n",
              "    height: 32px;\n",
              "    padding: 0;\n",
              "    width: 32px;\n",
              "  }\n",
              "\n",
              "  .colab-df-quickchart:hover {\n",
              "    background-color: var(--hover-bg-color);\n",
              "    box-shadow: 0 1px 2px rgba(60, 64, 67, 0.3), 0 1px 3px 1px rgba(60, 64, 67, 0.15);\n",
              "    fill: var(--button-hover-fill-color);\n",
              "  }\n",
              "\n",
              "  .colab-df-quickchart-complete:disabled,\n",
              "  .colab-df-quickchart-complete:disabled:hover {\n",
              "    background-color: var(--disabled-bg-color);\n",
              "    fill: var(--disabled-fill-color);\n",
              "    box-shadow: none;\n",
              "  }\n",
              "\n",
              "  .colab-df-spinner {\n",
              "    border: 2px solid var(--fill-color);\n",
              "    border-color: transparent;\n",
              "    border-bottom-color: var(--fill-color);\n",
              "    animation:\n",
              "      spin 1s steps(1) infinite;\n",
              "  }\n",
              "\n",
              "  @keyframes spin {\n",
              "    0% {\n",
              "      border-color: transparent;\n",
              "      border-bottom-color: var(--fill-color);\n",
              "      border-left-color: var(--fill-color);\n",
              "    }\n",
              "    20% {\n",
              "      border-color: transparent;\n",
              "      border-left-color: var(--fill-color);\n",
              "      border-top-color: var(--fill-color);\n",
              "    }\n",
              "    30% {\n",
              "      border-color: transparent;\n",
              "      border-left-color: var(--fill-color);\n",
              "      border-top-color: var(--fill-color);\n",
              "      border-right-color: var(--fill-color);\n",
              "    }\n",
              "    40% {\n",
              "      border-color: transparent;\n",
              "      border-right-color: var(--fill-color);\n",
              "      border-top-color: var(--fill-color);\n",
              "    }\n",
              "    60% {\n",
              "      border-color: transparent;\n",
              "      border-right-color: var(--fill-color);\n",
              "    }\n",
              "    80% {\n",
              "      border-color: transparent;\n",
              "      border-right-color: var(--fill-color);\n",
              "      border-bottom-color: var(--fill-color);\n",
              "    }\n",
              "    90% {\n",
              "      border-color: transparent;\n",
              "      border-bottom-color: var(--fill-color);\n",
              "    }\n",
              "  }\n",
              "</style>\n",
              "\n",
              "  <script>\n",
              "    async function quickchart(key) {\n",
              "      const quickchartButtonEl =\n",
              "        document.querySelector('#' + key + ' button');\n",
              "      quickchartButtonEl.disabled = true;  // To prevent multiple clicks.\n",
              "      quickchartButtonEl.classList.add('colab-df-spinner');\n",
              "      try {\n",
              "        const charts = await google.colab.kernel.invokeFunction(\n",
              "            'suggestCharts', [key], {});\n",
              "      } catch (error) {\n",
              "        console.error('Error during call to suggestCharts:', error);\n",
              "      }\n",
              "      quickchartButtonEl.classList.remove('colab-df-spinner');\n",
              "      quickchartButtonEl.classList.add('colab-df-quickchart-complete');\n",
              "    }\n",
              "    (() => {\n",
              "      let quickchartButtonEl =\n",
              "        document.querySelector('#df-2c7ad067-8504-404e-8249-73e26693acc9 button');\n",
              "      quickchartButtonEl.style.display =\n",
              "        google.colab.kernel.accessAllowed ? 'block' : 'none';\n",
              "    })();\n",
              "  </script>\n",
              "</div>\n",
              "\n",
              "    </div>\n",
              "  </div>\n"
            ],
            "application/vnd.google.colaboratory.intrinsic+json": {
              "type": "dataframe",
              "variable_name": "data_orders",
              "summary": "{\n  \"name\": \"data_orders\",\n  \"rows\": 99441,\n  \"fields\": [\n    {\n      \"column\": \"order_id\",\n      \"properties\": {\n        \"dtype\": \"string\",\n        \"num_unique_values\": 99441,\n        \"samples\": [\n          \"b9a6c5f5df52c7226ac85aee7524c27f\",\n          \"261e71d2349c713eafa9f3df5972b95d\",\n          \"67b50899f52995848c427e361e10dde3\"\n        ],\n        \"semantic_type\": \"\",\n        \"description\": \"\"\n      }\n    },\n    {\n      \"column\": \"customer_id\",\n      \"properties\": {\n        \"dtype\": \"string\",\n        \"num_unique_values\": 99441,\n        \"samples\": [\n          \"f160aaf480efdfa7268f0fa535f73e76\",\n          \"d6708bbbd2d419475869a84e41f620a1\",\n          \"1b353c00c71689afba44554e43cc5a76\"\n        ],\n        \"semantic_type\": \"\",\n        \"description\": \"\"\n      }\n    },\n    {\n      \"column\": \"order_status\",\n      \"properties\": {\n        \"dtype\": \"category\",\n        \"num_unique_values\": 8,\n        \"samples\": [\n          \"invoiced\",\n          \"canceled\",\n          \"delivered\"\n        ],\n        \"semantic_type\": \"\",\n        \"description\": \"\"\n      }\n    },\n    {\n      \"column\": \"order_purchase_timestamp\",\n      \"properties\": {\n        \"dtype\": \"object\",\n        \"num_unique_values\": 98875,\n        \"samples\": [\n          \"2017-12-03 02:01:18\",\n          \"2018-05-15 22:52:30\",\n          \"2018-08-22 21:56:07\"\n        ],\n        \"semantic_type\": \"\",\n        \"description\": \"\"\n      }\n    },\n    {\n      \"column\": \"order_approved_at\",\n      \"properties\": {\n        \"dtype\": \"object\",\n        \"num_unique_values\": 90733,\n        \"samples\": [\n          \"2017-05-17 03:55:26\",\n          \"2018-03-04 10:55:33\",\n          \"2017-10-05 02:49:39\"\n        ],\n        \"semantic_type\": \"\",\n        \"description\": \"\"\n      }\n    },\n    {\n      \"column\": \"order_delivered_carrier_date\",\n      \"properties\": {\n        \"dtype\": \"object\",\n        \"num_unique_values\": 81018,\n        \"samples\": [\n          \"2018-04-24 14:38:40\",\n          \"2017-03-18 10:37:00\",\n          \"2017-12-29 17:22:42\"\n        ],\n        \"semantic_type\": \"\",\n        \"description\": \"\"\n      }\n    },\n    {\n      \"column\": \"order_delivered_customer_date\",\n      \"properties\": {\n        \"dtype\": \"object\",\n        \"num_unique_values\": 95664,\n        \"samples\": [\n          \"2017-03-27 12:43:40\",\n          \"2018-02-23 16:39:23\",\n          \"2017-10-09 22:16:39\"\n        ],\n        \"semantic_type\": \"\",\n        \"description\": \"\"\n      }\n    },\n    {\n      \"column\": \"order_estimated_delivery_date\",\n      \"properties\": {\n        \"dtype\": \"object\",\n        \"num_unique_values\": 459,\n        \"samples\": [\n          \"2018-07-27 00:00:00\",\n          \"2018-08-06 00:00:00\",\n          \"2017-09-13 00:00:00\"\n        ],\n        \"semantic_type\": \"\",\n        \"description\": \"\"\n      }\n    }\n  ]\n}"
            }
          },
          "metadata": {},
          "execution_count": 3
        }
      ],
      "source": [
        "# Mounting Google Drive\n",
        "drive.mount('/content/gdrive')\n",
        "\n",
        "# Loading datasets with the correct paths\n",
        "data_customers = pd.read_csv('/content/gdrive/MyDrive/Colab_Notebooks/E-Commerce_Dataset/customers_dataset.csv')\n",
        "data_geolocation = pd.read_csv('/content/gdrive/MyDrive/Colab_Notebooks/E-Commerce_Dataset/geolocation_dataset.csv')\n",
        "data_order_items = pd.read_csv('/content/gdrive/MyDrive/Colab_Notebooks/E-Commerce_Dataset/order_items_dataset.csv')\n",
        "data_order_payments = pd.read_csv('/content/gdrive/MyDrive/Colab_Notebooks/E-Commerce_Dataset/order_payments_dataset.csv')\n",
        "data_order_reviews = pd.read_csv('/content/gdrive/MyDrive/Colab_Notebooks/E-Commerce_Dataset/order_reviews_dataset.csv')\n",
        "data_orders = pd.read_csv('/content/gdrive/MyDrive/Colab_Notebooks/E-Commerce_Dataset/orders_dataset.csv')\n",
        "data_product_category = pd.read_csv('/content/gdrive/MyDrive/Colab_Notebooks/E-Commerce_Dataset/product_category_name_translation.csv')\n",
        "\n",
        "# Displaying the first few rows of the orders dataset\n",
        "data_orders.head()"
      ]
    },
    {
      "cell_type": "markdown",
      "source": [
        "**Insight:**\n",
        "- Memastikan data telah dimuat dengan benar adalah langkah pertama yang kritis. Kesalahan pada tahap ini dapat menyebabkan masalah dalam analisis lebih lanjut."
      ],
      "metadata": {
        "id": "MMi6xGaDkbCi"
      }
    },
    {
      "cell_type": "markdown",
      "metadata": {
        "id": "FHSiqaZp8DC1"
      },
      "source": [
        "### Assessing Data"
      ]
    },
    {
      "cell_type": "markdown",
      "source": [
        "Setelah memuat data, kita akan memeriksa apakah terdapat nilai yang hilang dalam dataset. Ini penting untuk memastikan integritas data sebelum melanjutkan dengan analisis lebih lanjut."
      ],
      "metadata": {
        "id": "XBPX4hi9tHhZ"
      }
    },
    {
      "cell_type": "code",
      "source": [
        "# Checking for missing values in the orders dataset\n",
        "missing_values = data_orders.isnull().sum()\n",
        "missing_values[missing_values > 0]"
      ],
      "metadata": {
        "id": "ax-3tEjc9Cj1",
        "colab": {
          "base_uri": "https://localhost:8080/",
          "height": 178
        },
        "outputId": "279bd9d3-3e81-423d-bde1-5cd4b19869b8"
      },
      "execution_count": 4,
      "outputs": [
        {
          "output_type": "execute_result",
          "data": {
            "text/plain": [
              "order_approved_at                 160\n",
              "order_delivered_carrier_date     1783\n",
              "order_delivered_customer_date    2965\n",
              "dtype: int64"
            ],
            "text/html": [
              "<div>\n",
              "<style scoped>\n",
              "    .dataframe tbody tr th:only-of-type {\n",
              "        vertical-align: middle;\n",
              "    }\n",
              "\n",
              "    .dataframe tbody tr th {\n",
              "        vertical-align: top;\n",
              "    }\n",
              "\n",
              "    .dataframe thead th {\n",
              "        text-align: right;\n",
              "    }\n",
              "</style>\n",
              "<table border=\"1\" class=\"dataframe\">\n",
              "  <thead>\n",
              "    <tr style=\"text-align: right;\">\n",
              "      <th></th>\n",
              "      <th>0</th>\n",
              "    </tr>\n",
              "  </thead>\n",
              "  <tbody>\n",
              "    <tr>\n",
              "      <th>order_approved_at</th>\n",
              "      <td>160</td>\n",
              "    </tr>\n",
              "    <tr>\n",
              "      <th>order_delivered_carrier_date</th>\n",
              "      <td>1783</td>\n",
              "    </tr>\n",
              "    <tr>\n",
              "      <th>order_delivered_customer_date</th>\n",
              "      <td>2965</td>\n",
              "    </tr>\n",
              "  </tbody>\n",
              "</table>\n",
              "</div><br><label><b>dtype:</b> int64</label>"
            ]
          },
          "metadata": {},
          "execution_count": 4
        }
      ]
    },
    {
      "cell_type": "markdown",
      "source": [
        "**Insight:**\n",
        "- Menilai data untuk menemukan nilai yang hilang adalah langkah penting dalam data wrangling. Nilai yang hilang dapat mengurangi kualitas analisis, dan kita perlu memutuskan bagaimana menangani data tersebut."
      ],
      "metadata": {
        "id": "7dtxhAPrkhPL"
      }
    },
    {
      "cell_type": "markdown",
      "metadata": {
        "id": "EhN5R4hr8DC1"
      },
      "source": [
        "### Cleaning Data"
      ]
    },
    {
      "cell_type": "markdown",
      "source": [
        "Di sini, kita akan menghapus baris yang memiliki nilai yang hilang pada kolom-kolom kritis. Membersihkan data adalah langkah penting untuk memastikan bahwa analisis yang dilakukan dapat diandalkan dan akurat."
      ],
      "metadata": {
        "id": "aW4UK3b3tM41"
      }
    },
    {
      "cell_type": "code",
      "source": [
        "# Dropping rows with missing values in critical columns\n",
        "data_orders_cleaned = data_orders.dropna(subset=['order_id', 'order_status'])\n",
        "\n",
        "# Checking the shape of the cleaned dataset\n",
        "data_orders_cleaned.shape"
      ],
      "metadata": {
        "id": "jVnYpprE9Evz",
        "colab": {
          "base_uri": "https://localhost:8080/"
        },
        "outputId": "6eb9e55a-8830-4b28-d75d-b10cca766fd7"
      },
      "execution_count": 5,
      "outputs": [
        {
          "output_type": "execute_result",
          "data": {
            "text/plain": [
              "(99441, 8)"
            ]
          },
          "metadata": {},
          "execution_count": 5
        }
      ]
    },
    {
      "cell_type": "markdown",
      "source": [
        "**Insight:**\n",
        "- Data yang bersih adalah dasar dari analisis yang baik. Menghapus nilai yang hilang pada kolom kritis mencegah pengaruh negatif pada hasil analisis."
      ],
      "metadata": {
        "id": "Q_5ejIqckiSP"
      }
    },
    {
      "cell_type": "markdown",
      "metadata": {
        "id": "gp-Y6wU38DC1"
      },
      "source": [
        "## Exploratory Data Analysis (EDA)"
      ]
    },
    {
      "cell_type": "markdown",
      "source": [
        "Pada tahap ini, kita akan melakukan analisis eksplorasi data untuk mendapatkan wawasan awal dari dataset. Kami akan memeriksa bagaimana data terdistribusi dan melihat pola-pola yang mungkin ada."
      ],
      "metadata": {
        "id": "mvRBzMpltR7E"
      }
    },
    {
      "cell_type": "markdown",
      "metadata": {
        "id": "MW7WF2kr8DC1"
      },
      "source": [
        "### Explore ..."
      ]
    },
    {
      "cell_type": "code",
      "execution_count": 6,
      "metadata": {
        "id": "e9CQCZjk8DC2"
      },
      "outputs": [],
      "source": [
        "# Converting order_date to datetime format\n",
        "data_orders_cleaned['order_purchase_timestamp'] = pd.to_datetime(data_orders_cleaned['order_purchase_timestamp'])"
      ]
    },
    {
      "cell_type": "code",
      "source": [
        "# Extracting month and year from the date\n",
        "data_orders_cleaned['month_year'] = data_orders_cleaned['order_purchase_timestamp'].dt.to_period('M')"
      ],
      "metadata": {
        "id": "5bx7BK_rfT6s"
      },
      "execution_count": 94,
      "outputs": []
    },
    {
      "cell_type": "code",
      "source": [
        "# Grouping by month and counting the number of orders\n",
        "monthly_orders = data_orders_cleaned.groupby('month_year')['order_id'].count().reset_index()"
      ],
      "metadata": {
        "id": "1JAXApXwfYY2"
      },
      "execution_count": 8,
      "outputs": []
    },
    {
      "cell_type": "code",
      "source": [
        "# Analyzing the payment methods used\n",
        "payment_method_counts = data_order_payments['payment_type'].value_counts()"
      ],
      "metadata": {
        "id": "t4s9lErdfdWO"
      },
      "execution_count": 9,
      "outputs": []
    },
    {
      "cell_type": "markdown",
      "source": [
        "**Insight:**\n",
        "- EDA membantu kita memahami karakteristik dataset dan menemukan pola yang tidak terduga, yang dapat mengarah pada pertanyaan atau analisis tambahan."
      ],
      "metadata": {
        "id": "th_Lzl2Fkj9O"
      }
    },
    {
      "cell_type": "markdown",
      "metadata": {
        "id": "zsyZjqak8DC2"
      },
      "source": [
        "## Visualization & Explanatory Analysis"
      ]
    },
    {
      "cell_type": "markdown",
      "metadata": {
        "id": "HZxOiQ6n8DC2"
      },
      "source": [
        "### Pertanyaan 1: What is the trend of monthly orders in the dataset? How does it change over time?"
      ]
    },
    {
      "cell_type": "markdown",
      "source": [
        "Kita akan mengonversi tanggal pesanan ke dalam format yang dapat digunakan untuk analisis bulanan, kemudian menghitung jumlah pesanan untuk setiap bulan dan menggambarkan tren tersebut."
      ],
      "metadata": {
        "id": "4hu6hAL0tg52"
      }
    },
    {
      "cell_type": "code",
      "execution_count": 92,
      "metadata": {
        "id": "1swJUdAD8DC2"
      },
      "outputs": [],
      "source": [
        "# Convert month_year to string or period if necessary\n",
        "monthly_orders['month_year'] = monthly_orders['month_year'].astype(str)"
      ]
    },
    {
      "cell_type": "code",
      "source": [
        "# Displaying the trend of monthly orders\n",
        "plt.figure(figsize=(12, 6))\n",
        "sns.lineplot(x='month_year', y='order_id', data=monthly_orders, marker='o')\n",
        "plt.title('Trend of Monthly Orders', fontsize=16)\n",
        "plt.xlabel('Month-Year', fontsize=12)\n",
        "plt.ylabel('Number of Orders', fontsize=12)\n",
        "plt.xticks(rotation=45)\n",
        "plt.grid(True)\n",
        "plt.savefig('monthly_orders_trend.png')  # Save the figure\n",
        "plt.show()"
      ],
      "metadata": {
        "colab": {
          "base_uri": "https://localhost:8080/",
          "height": 607
        },
        "id": "Yf3Ij8CNxjwN",
        "outputId": "44e1e27c-abf5-4cc0-d837-694c53957113"
      },
      "execution_count": 93,
      "outputs": [
        {
          "output_type": "display_data",
          "data": {
            "text/plain": [
              "<Figure size 1200x600 with 1 Axes>"
            ],
            "image/png": "[encoded data removed]"
          },
          "metadata": {}
        }
      ]
    },
    {
      "cell_type": "code",
      "source": [
        "print(monthly_orders.dtypes)"
      ],
      "metadata": {
        "colab": {
          "base_uri": "https://localhost:8080/"
        },
        "id": "1bHPgAtOf41h",
        "outputId": "127b7aa1-31be-403d-b4f5-c63a9aac2d5a"
      },
      "execution_count": 12,
      "outputs": [
        {
          "output_type": "stream",
          "name": "stdout",
          "text": [
            "month_year    object\n",
            "order_id       int64\n",
            "dtype: object\n"
          ]
        }
      ]
    },
    {
      "cell_type": "markdown",
      "metadata": {
        "id": "DgHI7CiU8DC2"
      },
      "source": [
        "### Pertanyaan 2:  What are the most frequently used payment methods? How significant is the distribution of each?"
      ]
    },
    {
      "cell_type": "markdown",
      "source": [
        "Di sini, kita akan menganalisis metode pembayaran yang digunakan dan menyajikan data tersebut dalam bentuk grafik batang untuk menunjukkan distribusi frekuensi setiap metode."
      ],
      "metadata": {
        "id": "XGmRHfMxtmhf"
      }
    },
    {
      "cell_type": "code",
      "source": [
        "# Distribution of payment methods\n",
        "payment_method_counts = data_order_payments['payment_type'].value_counts()\n",
        "\n",
        "plt.figure(figsize=(12, 6))\n",
        "sns.barplot(x=payment_method_counts.index, y=payment_method_counts.values, palette='viridis')\n",
        "plt.title('Distribution of Payment Methods', fontsize=16)\n",
        "plt.xlabel('Payment Method', fontsize=12)\n",
        "plt.ylabel('Frequency', fontsize=12)\n",
        "plt.xticks(rotation=45)\n",
        "plt.grid(True)\n",
        "plt.savefig('payment_methods_distribution.png')  # Save the figure\n",
        "plt.show()"
      ],
      "metadata": {
        "colab": {
          "base_uri": "https://localhost:8080/",
          "height": 711
        },
        "id": "4dRoDG-2xX6c",
        "outputId": "6a420ac5-8890-4bec-cdeb-04ad3283b61c"
      },
      "execution_count": 91,
      "outputs": [
        {
          "output_type": "stream",
          "name": "stderr",
          "text": [
            "<ipython-input-91-9ffa93058afb>:5: FutureWarning: \n",
            "\n",
            "Passing `palette` without assigning `hue` is deprecated and will be removed in v0.14.0. Assign the `x` variable to `hue` and set `legend=False` for the same effect.\n",
            "\n",
            "  sns.barplot(x=payment_method_counts.index, y=payment_method_counts.values, palette='viridis')\n"
          ]
        },
        {
          "output_type": "display_data",
          "data": {
            "text/plain": [
              "<Figure size 1200x600 with 1 Axes>"
            ],
            "image/png": "[encoded data removed]"
          },
          "metadata": {}
        }
      ]
    },
    {
      "cell_type": "markdown",
      "source": [
        "**Insight:**\n",
        "- Dengan menganalisis tren bulanan, kita dapat mengidentifikasi periode puncak penjualan dan periode sepi. Hal ini dapat membantu dalam perencanaan inventaris dan strategi pemasaran.\n",
        "- Memahami metode pembayaran yang paling populer dapat membantu dalam meningkatkan pengalaman pelanggan dengan menyediakan opsi yang lebih relevan dan sesuai kebutuhan."
      ],
      "metadata": {
        "id": "_0-36BDLklRg"
      }
    },
    {
      "cell_type": "markdown",
      "source": [
        "## Analisis Lanjutan (Opsional)"
      ],
      "metadata": {
        "id": "9y4VUsmcYNZ5"
      }
    },
    {
      "cell_type": "code",
      "source": [],
      "metadata": {
        "id": "iWhnzsJGYUCO"
      },
      "execution_count": null,
      "outputs": []
    },
    {
      "cell_type": "markdown",
      "source": [
        "## RFM Analysis"
      ],
      "metadata": {
        "id": "ewugTSG6t11v"
      }
    },
    {
      "cell_type": "markdown",
      "source": [
        "Analisis RFM bertujuan untuk mengelompokkan pelanggan berdasarkan perilaku pembelian mereka. Tiga faktor utama yang dianalisis adalah:\n",
        "- **Recency:** Jumlah hari sejak terakhir kali pelanggan melakukan pembelian.\n",
        "- **Frequency:** Jumlah total transaksi yang dilakukan oleh pelanggan dalam periode tertentu.\n",
        "- **Monetary:** Total pengeluaran pelanggan dalam periode tersebut."
      ],
      "metadata": {
        "id": "71e0zDvquSb5"
      }
    },
    {
      "cell_type": "code",
      "source": [
        "# RFM Analysis\n",
        "# Ensure 'order_purchase_timestamp' is in datetime format\n",
        "data_orders_cleaned['order_purchase_timestamp'] = pd.to_datetime(data_orders_cleaned['order_purchase_timestamp'], errors='coerce')"
      ],
      "metadata": {
        "id": "Q9x-aKeZgcrY"
      },
      "execution_count": 31,
      "outputs": []
    },
    {
      "cell_type": "code",
      "source": [
        "# Set snapshot date to one day after the last purchase date\n",
        "snapshot_date = data_orders_cleaned['order_purchase_timestamp'].max() + pd.Timedelta(days=1)"
      ],
      "metadata": {
        "id": "iLLpLYfogf4I"
      },
      "execution_count": 87,
      "outputs": []
    },
    {
      "cell_type": "code",
      "source": [
        "# RFM Analysis without 'payment_value'\n",
        "rfm = data_orders_cleaned.groupby('customer_id').agg({\n",
        "    'order_purchase_timestamp': lambda x: (snapshot_date - x.max()).days,  # Recency\n",
        "    'order_id': 'count'  # Frequency\n",
        "}).rename(columns={\n",
        "    'order_purchase_timestamp': 'Recency',\n",
        "    'order_id': 'Frequency'\n",
        "})\n",
        "\n",
        "\n",
        "print(rfm.head())"
      ],
      "metadata": {
        "colab": {
          "base_uri": "https://localhost:8080/"
        },
        "id": "XY4z-76egJcN",
        "outputId": "23553552-7be3-4da0-f4dc-e834c62003a5"
      },
      "execution_count": 86,
      "outputs": [
        {
          "output_type": "stream",
          "name": "stdout",
          "text": [
            "                                  Recency  Frequency\n",
            "customer_id                                         \n",
            "9ef432eb6251297304e76186b10a928d      381          1\n",
            "b0830fb4747a6c6d20dea0b8c802d7ef       85          1\n"
          ]
        }
      ]
    },
    {
      "cell_type": "markdown",
      "source": [
        "**Insight:**\n",
        "- RFM Analysis memungkinkan kita untuk mengenali pelanggan yang paling berharga. Ini membantu dalam mengarahkan upaya pemasaran dan meningkatkan loyalitas pelanggan."
      ],
      "metadata": {
        "id": "5SSFHJeXt7Co"
      }
    },
    {
      "cell_type": "markdown",
      "source": [
        "## Geospatial Analysis"
      ],
      "metadata": {
        "id": "IbMgu7M3idLP"
      }
    },
    {
      "cell_type": "markdown",
      "source": [
        "Analisis geospasial bertujuan untuk menganalisis data berdasarkan lokasi geografis. Kami akan menggunakan GeoPandas atau Folium untuk membuat peta yang menampilkan distribusi data berdasarkan lokasi, yang dapat membantu dalam mengidentifikasi tren atau pola tertentu."
      ],
      "metadata": {
        "id": "aYpf2ZDquLIZ"
      }
    },
    {
      "cell_type": "code",
      "source": [
        "# 1. Periksa kolom di data_orders_cleaned\n",
        "print(\"Columns in data_orders_cleaned:\", data_orders_cleaned.columns.tolist())"
      ],
      "metadata": {
        "colab": {
          "base_uri": "https://localhost:8080/"
        },
        "id": "CbHGGwk7if2G",
        "outputId": "36aa1a07-7c5d-4d9d-dfe4-226a0d25265a"
      },
      "execution_count": 48,
      "outputs": [
        {
          "output_type": "stream",
          "name": "stdout",
          "text": [
            "Columns in data_orders_cleaned: ['order_id', 'customer_id', 'order_status', 'order_purchase_timestamp', 'order_approved_at', 'order_delivered_carrier_date', 'order_delivered_customer_date', 'order_estimated_delivery_date', 'month_year']\n"
          ]
        }
      ]
    },
    {
      "cell_type": "code",
      "source": [
        "# 2. Periksa kolom di data_geolocation\n",
        "print(\"Columns in data_geolocation:\", data_geolocation.columns.tolist())"
      ],
      "metadata": {
        "colab": {
          "base_uri": "https://localhost:8080/"
        },
        "id": "VrRTzUv8iyYl",
        "outputId": "4d38a6a5-5071-4701-f272-a9c7e50afd22"
      },
      "execution_count": 49,
      "outputs": [
        {
          "output_type": "stream",
          "name": "stdout",
          "text": [
            "Columns in data_geolocation: ['geolocation_zip_code_prefix', 'geolocation_lat', 'geolocation_lng', 'geolocation_city', 'geolocation_state']\n"
          ]
        }
      ]
    },
    {
      "cell_type": "code",
      "source": [
        "# 3. Menghapus spasi di nama kolom jika ada\n",
        "data_orders_cleaned.columns = data_orders_cleaned.columns.str.strip()\n",
        "data_geolocation.columns = data_geolocation.columns.str.strip()"
      ],
      "metadata": {
        "id": "SaZRE5nZi05U"
      },
      "execution_count": 50,
      "outputs": []
    },
    {
      "cell_type": "code",
      "source": [
        "data_orders_geo = data_orders_cleaned.merge(data_geolocation,\n",
        "                                             left_on='customer_zip_code',\n",
        "                                             right_on='geolocation_zip_code_prefix',\n",
        "                                             how='inner')\n"
      ],
      "metadata": {
        "id": "GyPcllcVnJrf"
      },
      "execution_count": 84,
      "outputs": []
    },
    {
      "cell_type": "code",
      "source": [
        "print(data_orders_geo.head())  # Melihat beberapa baris pertama dari hasil penggabungan\n"
      ],
      "metadata": {
        "colab": {
          "base_uri": "https://localhost:8080/"
        },
        "id": "ntqYK9QqnMaH",
        "outputId": "f65e61a4-6db6-49ea-cfe8-b787464e749a"
      },
      "execution_count": 85,
      "outputs": [
        {
          "output_type": "stream",
          "name": "stdout",
          "text": [
            "                           order_id                       customer_id  \\\n",
            "0  e481f51cbdc54678b7cc49136f2d6af7  9ef432eb6251297304e76186b10a928d   \n",
            "1  e481f51cbdc54678b7cc49136f2d6af7  9ef432eb6251297304e76186b10a928d   \n",
            "2  e481f51cbdc54678b7cc49136f2d6af7  9ef432eb6251297304e76186b10a928d   \n",
            "3  e481f51cbdc54678b7cc49136f2d6af7  9ef432eb6251297304e76186b10a928d   \n",
            "4  e481f51cbdc54678b7cc49136f2d6af7  9ef432eb6251297304e76186b10a928d   \n",
            "\n",
            "  order_status order_purchase_timestamp    order_approved_at  \\\n",
            "0    delivered      2017-10-02 10:56:33  2017-10-02 11:07:15   \n",
            "1    delivered      2017-10-02 10:56:33  2017-10-02 11:07:15   \n",
            "2    delivered      2017-10-02 10:56:33  2017-10-02 11:07:15   \n",
            "3    delivered      2017-10-02 10:56:33  2017-10-02 11:07:15   \n",
            "4    delivered      2017-10-02 10:56:33  2017-10-02 11:07:15   \n",
            "\n",
            "  order_delivered_carrier_date order_delivered_customer_date  \\\n",
            "0          2017-10-04 19:55:00           2017-10-10 21:25:13   \n",
            "1          2017-10-04 19:55:00           2017-10-10 21:25:13   \n",
            "2          2017-10-04 19:55:00           2017-10-10 21:25:13   \n",
            "3          2017-10-04 19:55:00           2017-10-10 21:25:13   \n",
            "4          2017-10-04 19:55:00           2017-10-10 21:25:13   \n",
            "\n",
            "  order_estimated_delivery_date month_year customer_zip_code  \\\n",
            "0           2017-10-18 00:00:00    2017-10              1037   \n",
            "1           2017-10-18 00:00:00    2017-10              1037   \n",
            "2           2017-10-18 00:00:00    2017-10              1037   \n",
            "3           2017-10-18 00:00:00    2017-10              1037   \n",
            "4           2017-10-18 00:00:00    2017-10              1037   \n",
            "\n",
            "  geolocation_zip_code_prefix  geolocation_lat  geolocation_lng  \\\n",
            "0                        1037       -23.545621       -46.639292   \n",
            "1                        1037       -23.545187       -46.637855   \n",
            "2                        1037       -23.546705       -46.640336   \n",
            "3                        1037       -23.543883       -46.638075   \n",
            "4                        1037       -23.546157       -46.639885   \n",
            "\n",
            "  geolocation_city geolocation_state  \n",
            "0        sao paulo                SP  \n",
            "1        são paulo                SP  \n",
            "2        são paulo                SP  \n",
            "3        são paulo                SP  \n",
            "4        sao paulo                SP  \n"
          ]
        }
      ]
    },
    {
      "cell_type": "markdown",
      "source": [
        "**Insight:**\n",
        "- Analisis geospasial memberikan wawasan tentang bagaimana lokasi dapat mempengaruhi perilaku pembelian, membantu dalam pengambilan keputusan terkait pemasaran dan lokasi fisik bisnis."
      ],
      "metadata": {
        "id": "g2oe7zn-uVpt"
      }
    },
    {
      "cell_type": "markdown",
      "source": [
        "## Clustering (Manual Grouping)"
      ],
      "metadata": {
        "id": "h8Z1JLO-nxpx"
      }
    },
    {
      "cell_type": "markdown",
      "source": [
        "Pada bagian ini, kita akan melakukan pengelompokan data berdasarkan karakteristik tertentu tanpa menggunakan algoritma pembelajaran mesin. Metode yang akan diterapkan antara lain:\n",
        "- **Manual Grouping:** Menentukan kriteria pengelompokan berdasarkan pemahaman domain.\n",
        "- **Binning:** Menggunakan teknik binning untuk membagi data ke dalam interval atau kategori tertentu."
      ],
      "metadata": {
        "id": "0SpNGGqiusVc"
      }
    },
    {
      "cell_type": "code",
      "source": [
        "import pandas as pd\n",
        "\n",
        "# Misalkan rfm adalah DataFrame awal Anda yang sudah ada\n",
        "rfm = pd.DataFrame({\n",
        "    'customer_id': [1, 2, 3],\n",
        "    'Recency': [10, 5, 2],\n",
        "    'Frequency': [1, 2, 3]\n",
        "})"
      ],
      "metadata": {
        "id": "VnbZlZ2hoV13"
      },
      "execution_count": 77,
      "outputs": []
    },
    {
      "cell_type": "code",
      "source": [
        "# Misalkan data_orders adalah DataFrame yang berisi informasi pembelian\n",
        "data_orders = pd.DataFrame({\n",
        "    'customer_id': [1, 2, 2, 3, 3, 3],\n",
        "    'order_value': [100, 200, 150, 300, 50, 100]\n",
        "})"
      ],
      "metadata": {
        "id": "VE4PWNOzofhP"
      },
      "execution_count": 78,
      "outputs": []
    },
    {
      "cell_type": "code",
      "source": [
        "# Menghitung total monetary\n",
        "total_amounts = data_orders.groupby('customer_id')['order_value'].sum().reset_index()\n",
        "total_amounts.rename(columns={'order_value': 'Monetary'}, inplace=True)"
      ],
      "metadata": {
        "id": "9EKljBiBnzo3"
      },
      "execution_count": 79,
      "outputs": []
    },
    {
      "cell_type": "code",
      "source": [
        "# Gabungkan total_amounts ke rfm\n",
        "rfm = rfm.merge(total_amounts, on='customer_id', how='left')\n"
      ],
      "metadata": {
        "id": "GvwcnkxbpMfn"
      },
      "execution_count": 80,
      "outputs": []
    },
    {
      "cell_type": "code",
      "source": [
        "# Tentukan batasan untuk bins\n",
        "rfm['RFM_Score'] = pd.cut(rfm['Recency'], bins=4, labels=['4', '3', '2', '1']).astype(str) + \\\n",
        "                   pd.cut(rfm['Frequency'], bins=4, labels=['1', '2', '3', '4']).astype(str) + \\\n",
        "                   pd.cut(rfm['Monetary'], bins=4, labels=['1', '2', '3', '4']).astype(str)"
      ],
      "metadata": {
        "id": "HjzBZxGmpNxn"
      },
      "execution_count": 81,
      "outputs": []
    },
    {
      "cell_type": "code",
      "source": [
        "# Menampilkan hasil\n",
        "print(rfm)"
      ],
      "metadata": {
        "colab": {
          "base_uri": "https://localhost:8080/"
        },
        "id": "NeeVPb47pQav",
        "outputId": "2ec2566e-737d-430c-cd9e-1e4a00420d27"
      },
      "execution_count": 82,
      "outputs": [
        {
          "output_type": "stream",
          "name": "stdout",
          "text": [
            "   customer_id  Recency  Frequency  Monetary RFM_Score\n",
            "0            1       10          1       100       111\n",
            "1            2        5          2       350       323\n",
            "2            3        2          3       450       444\n"
          ]
        }
      ]
    },
    {
      "cell_type": "markdown",
      "source": [
        "**Insight:**\n",
        "- Pengelompokan manual dapat memberikan wawasan lebih dalam tentang segmentasi pasar dan preferensi pelanggan, yang sangat penting untuk strategi pemasaran yang lebih tepat sasaran."
      ],
      "metadata": {
        "id": "MBZQfJsvumjG"
      }
    },
    {
      "cell_type": "markdown",
      "metadata": {
        "id": "_WeHlCeX8DC2"
      },
      "source": [
        "## Conclusion"
      ]
    },
    {
      "cell_type": "markdown",
      "metadata": {
        "id": "ZTcyR48Y8DC2"
      },
      "source": [
        "- Conclution pertanyaan 1 : Dari analisis tren bulanan, terlihat bahwa jumlah pesanan mengalami fluktuasi dari bulan ke bulan. Terdapat beberapa periode puncak, yang menunjukkan bulan-bulan dengan penjualan tinggi, serta periode sepi dengan penjualan yang lebih rendah. Fluktuasi ini mungkin terkait dengan faktor musiman, kampanye pemasaran, atau tren konsumen tertentu. Memahami pola ini dapat membantu dalam perencanaan inventaris dan strategi pemasaran di masa depan.\n",
        "- Conclution pertanyaan 2 : Analisis menunjukkan bahwa terdapat beberapa metode pembayaran yang paling sering digunakan oleh pelanggan. Distribusi frekuensi setiap metode pembayaran memberikan wawasan penting tentang preferensi pelanggan. Metode pembayaran yang paling umum digunakan bisa menjadi fokus utama untuk meningkatkan pengalaman pelanggan, seperti menyediakan opsi pembayaran yang lebih relevan atau mengoptimalkan proses pembayaran untuk meningkatkan konversi."
      ]
    },
    {
      "cell_type": "code",
      "source": [],
      "metadata": {
        "id": "crqvh1y3wUeE"
      },
      "execution_count": null,
      "outputs": []
    }
  ],
  "metadata": {
    "kernelspec": {
      "display_name": "Python 3",
      "language": "python",
      "name": "python3"
    },
    "language_info": {
      "name": "python",
      "version": "3.8.0 (tags/v3.8.0:fa919fd, Oct 14 2019, 19:21:23) [MSC v.1916 32 bit (Intel)]"
    },
    "orig_nbformat": 4,
    "vscode": {
      "interpreter": {
        "hash": "972b3bf27e332e87b5379f2791f6ef9dfc79c71018c370b0d7423235e20fe4d7"
      }
    },
    "colab": {
      "provenance": []
    }
  },
  "nbformat": 4,
  "nbformat_minor": 0
}